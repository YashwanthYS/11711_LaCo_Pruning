{
  "cells": [
    {
      "cell_type": "code",
      "execution_count": 1,
      "metadata": {
        "colab": {
          "base_uri": "https://localhost:8080/"
        },
        "id": "WT2Xbv4VvTXD",
        "outputId": "3cc73a7e-dcfc-4873-e0ee-d5fa1c2e70dc"
      },
      "outputs": [
        {
          "output_type": "stream",
          "name": "stdout",
          "text": [
            "Cloning into 'opencompass'...\n",
            "remote: Enumerating objects: 14271, done.\u001b[K\n",
            "remote: Counting objects: 100% (2033/2033), done.\u001b[K\n",
            "remote: Compressing objects: 100% (1002/1002), done.\u001b[K\n",
            "remote: Total 14271 (delta 1285), reused 1592 (delta 1016), pack-reused 12238 (from 1)\u001b[K\n",
            "Receiving objects: 100% (14271/14271), 5.03 MiB | 19.66 MiB/s, done.\n",
            "Resolving deltas: 100% (9486/9486), done.\n"
          ]
        }
      ],
      "source": [
        "!git clone https://github.com/namantuli18/opencompass.git"
      ]
    },
    {
      "cell_type": "code",
      "execution_count": 2,
      "metadata": {
        "colab": {
          "base_uri": "https://localhost:8080/"
        },
        "id": "vtjTMZPsTLfO",
        "outputId": "513d8a7a-a585-4662-c03f-23a97eafd61c"
      },
      "outputs": [
        {
          "output_type": "stream",
          "name": "stdout",
          "text": [
            "Collecting faiss-gpu\n",
            "  Downloading faiss_gpu-1.7.2-cp310-cp310-manylinux_2_17_x86_64.manylinux2014_x86_64.whl.metadata (1.4 kB)\n",
            "Downloading faiss_gpu-1.7.2-cp310-cp310-manylinux_2_17_x86_64.manylinux2014_x86_64.whl (85.5 MB)\n",
            "\u001b[2K   \u001b[90m━━━━━━━━━━━━━━━━━━━━━━━━━━━━━━━━━━━━━━━━\u001b[0m \u001b[32m85.5/85.5 MB\u001b[0m \u001b[31m23.7 MB/s\u001b[0m eta \u001b[36m0:00:00\u001b[0m\n",
            "\u001b[?25hInstalling collected packages: faiss-gpu\n",
            "Successfully installed faiss-gpu-1.7.2\n"
          ]
        }
      ],
      "source": [
        "!pip install faiss-gpu"
      ]
    },
    {
      "cell_type": "code",
      "execution_count": 3,
      "metadata": {
        "colab": {
          "base_uri": "https://localhost:8080/"
        },
        "id": "3YIPFAfCvlVu",
        "outputId": "02e99c67-3910-4e98-f8a8-5c6721d84608"
      },
      "outputs": [
        {
          "output_type": "stream",
          "name": "stdout",
          "text": [
            "/content/opencompass\n"
          ]
        }
      ],
      "source": [
        "%cd /content/opencompass/"
      ]
    },
    {
      "cell_type": "code",
      "execution_count": 4,
      "metadata": {
        "colab": {
          "base_uri": "https://localhost:8080/"
        },
        "id": "UmJpjeNdZM6t",
        "outputId": "43dd1d90-e695-4da5-ac3b-4fb55455e6be"
      },
      "outputs": [
        {
          "output_type": "stream",
          "name": "stdout",
          "text": [
            "configs  LICENSE      opencompass  README_zh-CN.md  requirements.txt  setup.py\ttools\n",
            "docs\t MANIFEST.in  README.md    requirements     run.py\t      tests\n"
          ]
        }
      ],
      "source": [
        "!ls"
      ]
    },
    {
      "cell_type": "code",
      "execution_count": 5,
      "metadata": {
        "colab": {
          "base_uri": "https://localhost:8080/"
        },
        "id": "5SN-fHTrvnPK",
        "outputId": "5179ba05-e35f-4112-ee60-e4d7f804cee2"
      },
      "outputs": [
        {
          "output_type": "stream",
          "name": "stdout",
          "text": [
            "Obtaining file:///content/opencompass\n",
            "  Preparing metadata (setup.py) ... \u001b[?25l\u001b[?25hdone\n",
            "Requirement already satisfied: absl-py in /usr/local/lib/python3.10/dist-packages (from opencompass==0.3.5) (1.4.0)\n",
            "Requirement already satisfied: accelerate>=0.19.0 in /usr/local/lib/python3.10/dist-packages (from opencompass==0.3.5) (0.34.2)\n",
            "Collecting cpm_kernels (from opencompass==0.3.5)\n",
            "  Downloading cpm_kernels-1.0.11-py3-none-any.whl.metadata (1.2 kB)\n",
            "Collecting datasets>=2.12.0 (from opencompass==0.3.5)\n",
            "  Downloading datasets-3.1.0-py3-none-any.whl.metadata (20 kB)\n",
            "Collecting einops==0.5.0 (from opencompass==0.3.5)\n",
            "  Downloading einops-0.5.0-py3-none-any.whl.metadata (11 kB)\n",
            "Collecting evaluate>=0.3.0 (from opencompass==0.3.5)\n",
            "  Downloading evaluate-0.4.3-py3-none-any.whl.metadata (9.2 kB)\n",
            "Collecting func_timeout (from opencompass==0.3.5)\n",
            "  Downloading func_timeout-4.3.5.tar.gz (44 kB)\n",
            "\u001b[2K     \u001b[90m━━━━━━━━━━━━━━━━━━━━━━━━━━━━━━━━━━━━━━━━\u001b[0m \u001b[32m44.3/44.3 kB\u001b[0m \u001b[31m2.9 MB/s\u001b[0m eta \u001b[36m0:00:00\u001b[0m\n",
            "\u001b[?25h  Preparing metadata (setup.py) ... \u001b[?25l\u001b[?25hdone\n",
            "Collecting fuzzywuzzy (from opencompass==0.3.5)\n",
            "  Downloading fuzzywuzzy-0.18.0-py2.py3-none-any.whl.metadata (4.9 kB)\n",
            "Requirement already satisfied: h5py in /usr/local/lib/python3.10/dist-packages (from opencompass==0.3.5) (3.12.1)\n",
            "Requirement already satisfied: huggingface_hub<=0.24.7 in /usr/local/lib/python3.10/dist-packages (from opencompass==0.3.5) (0.24.7)\n",
            "Requirement already satisfied: immutabledict in /usr/local/lib/python3.10/dist-packages (from opencompass==0.3.5) (4.2.0)\n",
            "Requirement already satisfied: jieba in /usr/local/lib/python3.10/dist-packages (from opencompass==0.3.5) (0.42.1)\n",
            "Collecting json5 (from opencompass==0.3.5)\n",
            "  Downloading json5-0.9.28-py3-none-any.whl.metadata (32 kB)\n",
            "Collecting mmengine-lite (from opencompass==0.3.5)\n",
            "  Downloading mmengine_lite-0.10.5-py3-none-any.whl.metadata (20 kB)\n",
            "Collecting nltk==3.8 (from opencompass==0.3.5)\n",
            "  Using cached nltk-3.8-py3-none-any.whl.metadata (2.8 kB)\n",
            "Requirement already satisfied: numpy<2.0.0,>=1.23.4 in /usr/local/lib/python3.10/dist-packages (from opencompass==0.3.5) (1.26.4)\n",
            "Requirement already satisfied: openai in /usr/local/lib/python3.10/dist-packages (from opencompass==0.3.5) (1.52.2)\n",
            "Collecting OpenCC (from opencompass==0.3.5)\n",
            "  Downloading OpenCC-1.1.9-cp310-cp310-manylinux2014_x86_64.whl.metadata (13 kB)\n",
            "Requirement already satisfied: opencv-python-headless in /usr/local/lib/python3.10/dist-packages (from opencompass==0.3.5) (4.10.0.84)\n",
            "Collecting pandas<2.0.0 (from opencompass==0.3.5)\n",
            "  Downloading pandas-1.5.3-cp310-cp310-manylinux_2_17_x86_64.manylinux2014_x86_64.whl.metadata (11 kB)\n",
            "Requirement already satisfied: prettytable in /usr/local/lib/python3.10/dist-packages (from opencompass==0.3.5) (3.12.0)\n",
            "Requirement already satisfied: protobuf in /usr/local/lib/python3.10/dist-packages (from opencompass==0.3.5) (3.20.3)\n",
            "Collecting pyext (from opencompass==0.3.5)\n",
            "  Downloading pyext-0.7.tar.gz (7.8 kB)\n",
            "  Preparing metadata (setup.py) ... \u001b[?25l\u001b[?25hdone\n",
            "Collecting python-Levenshtein (from opencompass==0.3.5)\n",
            "  Downloading python_Levenshtein-0.26.1-py3-none-any.whl.metadata (3.7 kB)\n",
            "Collecting rank_bm25==0.2.2 (from opencompass==0.3.5)\n",
            "  Downloading rank_bm25-0.2.2-py3-none-any.whl.metadata (3.2 kB)\n",
            "Collecting rapidfuzz (from opencompass==0.3.5)\n",
            "  Downloading rapidfuzz-3.10.1-cp310-cp310-manylinux_2_17_x86_64.manylinux2014_x86_64.whl.metadata (11 kB)\n",
            "Requirement already satisfied: requests>=2.31.0 in /usr/local/lib/python3.10/dist-packages (from opencompass==0.3.5) (2.32.3)\n",
            "Collecting retrying (from opencompass==0.3.5)\n",
            "  Downloading retrying-1.3.4-py3-none-any.whl.metadata (6.9 kB)\n",
            "Requirement already satisfied: rich in /usr/local/lib/python3.10/dist-packages (from opencompass==0.3.5) (13.9.4)\n",
            "Collecting rouge (from opencompass==0.3.5)\n",
            "  Downloading rouge-1.0.1-py3-none-any.whl.metadata (4.1 kB)\n",
            "Collecting rouge_chinese (from opencompass==0.3.5)\n",
            "  Downloading rouge_chinese-1.0.3-py3-none-any.whl.metadata (7.6 kB)\n",
            "Collecting rouge_score (from opencompass==0.3.5)\n",
            "  Downloading rouge_score-0.1.2.tar.gz (17 kB)\n",
            "  Preparing metadata (setup.py) ... \u001b[?25l\u001b[?25hdone\n",
            "Collecting sacrebleu (from opencompass==0.3.5)\n",
            "  Downloading sacrebleu-2.4.3-py3-none-any.whl.metadata (51 kB)\n",
            "\u001b[2K     \u001b[90m━━━━━━━━━━━━━━━━━━━━━━━━━━━━━━━━━━━━━━━━\u001b[0m \u001b[32m51.8/51.8 kB\u001b[0m \u001b[31m4.3 MB/s\u001b[0m eta \u001b[36m0:00:00\u001b[0m\n",
            "\u001b[?25hCollecting scikit_learn==1.5.0 (from opencompass==0.3.5)\n",
            "  Downloading scikit_learn-1.5.0-cp310-cp310-manylinux_2_17_x86_64.manylinux2014_x86_64.whl.metadata (11 kB)\n",
            "Requirement already satisfied: seaborn in /usr/local/lib/python3.10/dist-packages (from opencompass==0.3.5) (0.13.2)\n",
            "Collecting sentence_transformers==2.2.2 (from opencompass==0.3.5)\n",
            "  Downloading sentence-transformers-2.2.2.tar.gz (85 kB)\n",
            "\u001b[2K     \u001b[90m━━━━━━━━━━━━━━━━━━━━━━━━━━━━━━━━━━━━━━━━\u001b[0m \u001b[32m86.0/86.0 kB\u001b[0m \u001b[31m9.6 MB/s\u001b[0m eta \u001b[36m0:00:00\u001b[0m\n",
            "\u001b[?25h  Preparing metadata (setup.py) ... \u001b[?25l\u001b[?25hdone\n",
            "Requirement already satisfied: tabulate in /usr/local/lib/python3.10/dist-packages (from opencompass==0.3.5) (0.9.0)\n",
            "Collecting tiktoken (from opencompass==0.3.5)\n",
            "  Downloading tiktoken-0.8.0-cp310-cp310-manylinux_2_17_x86_64.manylinux2014_x86_64.whl.metadata (6.6 kB)\n",
            "Collecting timeout_decorator (from opencompass==0.3.5)\n",
            "  Downloading timeout-decorator-0.5.0.tar.gz (4.8 kB)\n",
            "  Preparing metadata (setup.py) ... \u001b[?25l\u001b[?25hdone\n",
            "Requirement already satisfied: tokenizers>=0.13.3 in /usr/local/lib/python3.10/dist-packages (from opencompass==0.3.5) (0.19.1)\n",
            "Requirement already satisfied: torch>=1.13.1 in /usr/local/lib/python3.10/dist-packages (from opencompass==0.3.5) (2.5.0+cu121)\n",
            "Requirement already satisfied: tqdm>=4.64.1 in /usr/local/lib/python3.10/dist-packages (from opencompass==0.3.5) (4.66.6)\n",
            "Requirement already satisfied: transformers>=4.29.1 in /usr/local/lib/python3.10/dist-packages (from opencompass==0.3.5) (4.44.2)\n",
            "Requirement already satisfied: typer in /usr/local/lib/python3.10/dist-packages (from opencompass==0.3.5) (0.12.5)\n",
            "Requirement already satisfied: click in /usr/local/lib/python3.10/dist-packages (from nltk==3.8->opencompass==0.3.5) (8.1.7)\n",
            "Requirement already satisfied: joblib in /usr/local/lib/python3.10/dist-packages (from nltk==3.8->opencompass==0.3.5) (1.4.2)\n",
            "Requirement already satisfied: regex>=2021.8.3 in /usr/local/lib/python3.10/dist-packages (from nltk==3.8->opencompass==0.3.5) (2024.9.11)\n",
            "Requirement already satisfied: scipy>=1.6.0 in /usr/local/lib/python3.10/dist-packages (from scikit_learn==1.5.0->opencompass==0.3.5) (1.13.1)\n",
            "Requirement already satisfied: threadpoolctl>=3.1.0 in /usr/local/lib/python3.10/dist-packages (from scikit_learn==1.5.0->opencompass==0.3.5) (3.5.0)\n",
            "Requirement already satisfied: torchvision in /usr/local/lib/python3.10/dist-packages (from sentence_transformers==2.2.2->opencompass==0.3.5) (0.20.0+cu121)\n",
            "Requirement already satisfied: sentencepiece in /usr/local/lib/python3.10/dist-packages (from sentence_transformers==2.2.2->opencompass==0.3.5) (0.2.0)\n",
            "Requirement already satisfied: packaging>=20.0 in /usr/local/lib/python3.10/dist-packages (from accelerate>=0.19.0->opencompass==0.3.5) (24.1)\n",
            "Requirement already satisfied: psutil in /usr/local/lib/python3.10/dist-packages (from accelerate>=0.19.0->opencompass==0.3.5) (5.9.5)\n",
            "Requirement already satisfied: pyyaml in /usr/local/lib/python3.10/dist-packages (from accelerate>=0.19.0->opencompass==0.3.5) (6.0.2)\n",
            "Requirement already satisfied: safetensors>=0.4.3 in /usr/local/lib/python3.10/dist-packages (from accelerate>=0.19.0->opencompass==0.3.5) (0.4.5)\n",
            "Requirement already satisfied: filelock in /usr/local/lib/python3.10/dist-packages (from datasets>=2.12.0->opencompass==0.3.5) (3.16.1)\n",
            "Requirement already satisfied: pyarrow>=15.0.0 in /usr/local/lib/python3.10/dist-packages (from datasets>=2.12.0->opencompass==0.3.5) (17.0.0)\n",
            "Collecting dill<0.3.9,>=0.3.0 (from datasets>=2.12.0->opencompass==0.3.5)\n",
            "  Downloading dill-0.3.8-py3-none-any.whl.metadata (10 kB)\n",
            "Collecting xxhash (from datasets>=2.12.0->opencompass==0.3.5)\n",
            "  Downloading xxhash-3.5.0-cp310-cp310-manylinux_2_17_x86_64.manylinux2014_x86_64.whl.metadata (12 kB)\n",
            "Collecting multiprocess<0.70.17 (from datasets>=2.12.0->opencompass==0.3.5)\n",
            "  Downloading multiprocess-0.70.16-py310-none-any.whl.metadata (7.2 kB)\n",
            "Collecting fsspec<=2024.9.0,>=2023.1.0 (from fsspec[http]<=2024.9.0,>=2023.1.0->datasets>=2.12.0->opencompass==0.3.5)\n",
            "  Downloading fsspec-2024.9.0-py3-none-any.whl.metadata (11 kB)\n",
            "Requirement already satisfied: aiohttp in /usr/local/lib/python3.10/dist-packages (from datasets>=2.12.0->opencompass==0.3.5) (3.10.10)\n",
            "Requirement already satisfied: typing-extensions>=3.7.4.3 in /usr/local/lib/python3.10/dist-packages (from huggingface_hub<=0.24.7->opencompass==0.3.5) (4.12.2)\n",
            "Requirement already satisfied: python-dateutil>=2.8.1 in /usr/local/lib/python3.10/dist-packages (from pandas<2.0.0->opencompass==0.3.5) (2.8.2)\n",
            "Requirement already satisfied: pytz>=2020.1 in /usr/local/lib/python3.10/dist-packages (from pandas<2.0.0->opencompass==0.3.5) (2024.2)\n",
            "Requirement already satisfied: charset-normalizer<4,>=2 in /usr/local/lib/python3.10/dist-packages (from requests>=2.31.0->opencompass==0.3.5) (3.4.0)\n",
            "Requirement already satisfied: idna<4,>=2.5 in /usr/local/lib/python3.10/dist-packages (from requests>=2.31.0->opencompass==0.3.5) (3.10)\n",
            "Requirement already satisfied: urllib3<3,>=1.21.1 in /usr/local/lib/python3.10/dist-packages (from requests>=2.31.0->opencompass==0.3.5) (2.2.3)\n",
            "Requirement already satisfied: certifi>=2017.4.17 in /usr/local/lib/python3.10/dist-packages (from requests>=2.31.0->opencompass==0.3.5) (2024.8.30)\n",
            "Requirement already satisfied: networkx in /usr/local/lib/python3.10/dist-packages (from torch>=1.13.1->opencompass==0.3.5) (3.4.2)\n",
            "Requirement already satisfied: jinja2 in /usr/local/lib/python3.10/dist-packages (from torch>=1.13.1->opencompass==0.3.5) (3.1.4)\n",
            "Requirement already satisfied: sympy==1.13.1 in /usr/local/lib/python3.10/dist-packages (from torch>=1.13.1->opencompass==0.3.5) (1.13.1)\n",
            "Requirement already satisfied: mpmath<1.4,>=1.1.0 in /usr/local/lib/python3.10/dist-packages (from sympy==1.13.1->torch>=1.13.1->opencompass==0.3.5) (1.3.0)\n",
            "Collecting addict (from mmengine-lite->opencompass==0.3.5)\n",
            "  Downloading addict-2.4.0-py3-none-any.whl.metadata (1.0 kB)\n",
            "Requirement already satisfied: termcolor in /usr/local/lib/python3.10/dist-packages (from mmengine-lite->opencompass==0.3.5) (2.5.0)\n",
            "Collecting yapf (from mmengine-lite->opencompass==0.3.5)\n",
            "  Downloading yapf-0.40.2-py3-none-any.whl.metadata (45 kB)\n",
            "\u001b[2K     \u001b[90m━━━━━━━━━━━━━━━━━━━━━━━━━━━━━━━━━━━━━━━━\u001b[0m \u001b[32m45.4/45.4 kB\u001b[0m \u001b[31m5.0 MB/s\u001b[0m eta \u001b[36m0:00:00\u001b[0m\n",
            "\u001b[?25hRequirement already satisfied: anyio<5,>=3.5.0 in /usr/local/lib/python3.10/dist-packages (from openai->opencompass==0.3.5) (3.7.1)\n",
            "Requirement already satisfied: distro<2,>=1.7.0 in /usr/local/lib/python3.10/dist-packages (from openai->opencompass==0.3.5) (1.9.0)\n",
            "Requirement already satisfied: httpx<1,>=0.23.0 in /usr/local/lib/python3.10/dist-packages (from openai->opencompass==0.3.5) (0.27.2)\n",
            "Requirement already satisfied: jiter<1,>=0.4.0 in /usr/local/lib/python3.10/dist-packages (from openai->opencompass==0.3.5) (0.7.0)\n",
            "Requirement already satisfied: pydantic<3,>=1.9.0 in /usr/local/lib/python3.10/dist-packages (from openai->opencompass==0.3.5) (2.9.2)\n",
            "Requirement already satisfied: sniffio in /usr/local/lib/python3.10/dist-packages (from openai->opencompass==0.3.5) (1.3.1)\n",
            "Requirement already satisfied: wcwidth in /usr/local/lib/python3.10/dist-packages (from prettytable->opencompass==0.3.5) (0.2.13)\n",
            "Collecting Levenshtein==0.26.1 (from python-Levenshtein->opencompass==0.3.5)\n",
            "  Downloading levenshtein-0.26.1-cp310-cp310-manylinux_2_17_x86_64.manylinux2014_x86_64.whl.metadata (3.2 kB)\n",
            "Requirement already satisfied: six>=1.7.0 in /usr/local/lib/python3.10/dist-packages (from retrying->opencompass==0.3.5) (1.16.0)\n",
            "Requirement already satisfied: markdown-it-py>=2.2.0 in /usr/local/lib/python3.10/dist-packages (from rich->opencompass==0.3.5) (3.0.0)\n",
            "Requirement already satisfied: pygments<3.0.0,>=2.13.0 in /usr/local/lib/python3.10/dist-packages (from rich->opencompass==0.3.5) (2.18.0)\n",
            "Collecting portalocker (from sacrebleu->opencompass==0.3.5)\n",
            "  Downloading portalocker-2.10.1-py3-none-any.whl.metadata (8.5 kB)\n",
            "Collecting colorama (from sacrebleu->opencompass==0.3.5)\n",
            "  Downloading colorama-0.4.6-py2.py3-none-any.whl.metadata (17 kB)\n",
            "Requirement already satisfied: lxml in /usr/local/lib/python3.10/dist-packages (from sacrebleu->opencompass==0.3.5) (5.3.0)\n",
            "Requirement already satisfied: matplotlib!=3.6.1,>=3.4 in /usr/local/lib/python3.10/dist-packages (from seaborn->opencompass==0.3.5) (3.8.0)\n",
            "Requirement already satisfied: shellingham>=1.3.0 in /usr/local/lib/python3.10/dist-packages (from typer->opencompass==0.3.5) (1.5.4)\n",
            "Requirement already satisfied: exceptiongroup in /usr/local/lib/python3.10/dist-packages (from anyio<5,>=3.5.0->openai->opencompass==0.3.5) (1.2.2)\n",
            "Requirement already satisfied: aiohappyeyeballs>=2.3.0 in /usr/local/lib/python3.10/dist-packages (from aiohttp->datasets>=2.12.0->opencompass==0.3.5) (2.4.3)\n",
            "Requirement already satisfied: aiosignal>=1.1.2 in /usr/local/lib/python3.10/dist-packages (from aiohttp->datasets>=2.12.0->opencompass==0.3.5) (1.3.1)\n",
            "Requirement already satisfied: attrs>=17.3.0 in /usr/local/lib/python3.10/dist-packages (from aiohttp->datasets>=2.12.0->opencompass==0.3.5) (24.2.0)\n",
            "Requirement already satisfied: frozenlist>=1.1.1 in /usr/local/lib/python3.10/dist-packages (from aiohttp->datasets>=2.12.0->opencompass==0.3.5) (1.5.0)\n",
            "Requirement already satisfied: multidict<7.0,>=4.5 in /usr/local/lib/python3.10/dist-packages (from aiohttp->datasets>=2.12.0->opencompass==0.3.5) (6.1.0)\n",
            "Requirement already satisfied: yarl<2.0,>=1.12.0 in /usr/local/lib/python3.10/dist-packages (from aiohttp->datasets>=2.12.0->opencompass==0.3.5) (1.17.1)\n",
            "Requirement already satisfied: async-timeout<5.0,>=4.0 in /usr/local/lib/python3.10/dist-packages (from aiohttp->datasets>=2.12.0->opencompass==0.3.5) (4.0.3)\n",
            "Requirement already satisfied: httpcore==1.* in /usr/local/lib/python3.10/dist-packages (from httpx<1,>=0.23.0->openai->opencompass==0.3.5) (1.0.6)\n",
            "Requirement already satisfied: h11<0.15,>=0.13 in /usr/local/lib/python3.10/dist-packages (from httpcore==1.*->httpx<1,>=0.23.0->openai->opencompass==0.3.5) (0.14.0)\n",
            "Requirement already satisfied: mdurl~=0.1 in /usr/local/lib/python3.10/dist-packages (from markdown-it-py>=2.2.0->rich->opencompass==0.3.5) (0.1.2)\n",
            "Requirement already satisfied: contourpy>=1.0.1 in /usr/local/lib/python3.10/dist-packages (from matplotlib!=3.6.1,>=3.4->seaborn->opencompass==0.3.5) (1.3.0)\n",
            "Requirement already satisfied: cycler>=0.10 in /usr/local/lib/python3.10/dist-packages (from matplotlib!=3.6.1,>=3.4->seaborn->opencompass==0.3.5) (0.12.1)\n",
            "Requirement already satisfied: fonttools>=4.22.0 in /usr/local/lib/python3.10/dist-packages (from matplotlib!=3.6.1,>=3.4->seaborn->opencompass==0.3.5) (4.54.1)\n",
            "Requirement already satisfied: kiwisolver>=1.0.1 in /usr/local/lib/python3.10/dist-packages (from matplotlib!=3.6.1,>=3.4->seaborn->opencompass==0.3.5) (1.4.7)\n",
            "Requirement already satisfied: pillow>=6.2.0 in /usr/local/lib/python3.10/dist-packages (from matplotlib!=3.6.1,>=3.4->seaborn->opencompass==0.3.5) (10.4.0)\n",
            "Requirement already satisfied: pyparsing>=2.3.1 in /usr/local/lib/python3.10/dist-packages (from matplotlib!=3.6.1,>=3.4->seaborn->opencompass==0.3.5) (3.2.0)\n",
            "Requirement already satisfied: annotated-types>=0.6.0 in /usr/local/lib/python3.10/dist-packages (from pydantic<3,>=1.9.0->openai->opencompass==0.3.5) (0.7.0)\n",
            "Requirement already satisfied: pydantic-core==2.23.4 in /usr/local/lib/python3.10/dist-packages (from pydantic<3,>=1.9.0->openai->opencompass==0.3.5) (2.23.4)\n",
            "Requirement already satisfied: MarkupSafe>=2.0 in /usr/local/lib/python3.10/dist-packages (from jinja2->torch>=1.13.1->opencompass==0.3.5) (3.0.2)\n",
            "Requirement already satisfied: importlib-metadata>=6.6.0 in /usr/local/lib/python3.10/dist-packages (from yapf->mmengine-lite->opencompass==0.3.5) (8.5.0)\n",
            "Requirement already satisfied: platformdirs>=3.5.1 in /usr/local/lib/python3.10/dist-packages (from yapf->mmengine-lite->opencompass==0.3.5) (4.3.6)\n",
            "Requirement already satisfied: tomli>=2.0.1 in /usr/local/lib/python3.10/dist-packages (from yapf->mmengine-lite->opencompass==0.3.5) (2.0.2)\n",
            "Requirement already satisfied: zipp>=3.20 in /usr/local/lib/python3.10/dist-packages (from importlib-metadata>=6.6.0->yapf->mmengine-lite->opencompass==0.3.5) (3.20.2)\n",
            "Requirement already satisfied: propcache>=0.2.0 in /usr/local/lib/python3.10/dist-packages (from yarl<2.0,>=1.12.0->aiohttp->datasets>=2.12.0->opencompass==0.3.5) (0.2.0)\n",
            "Downloading einops-0.5.0-py3-none-any.whl (36 kB)\n",
            "Using cached nltk-3.8-py3-none-any.whl (1.5 MB)\n",
            "Downloading rank_bm25-0.2.2-py3-none-any.whl (8.6 kB)\n",
            "Downloading scikit_learn-1.5.0-cp310-cp310-manylinux_2_17_x86_64.manylinux2014_x86_64.whl (13.3 MB)\n",
            "\u001b[2K   \u001b[90m━━━━━━━━━━━━━━━━━━━━━━━━━━━━━━━━━━━━━━━━\u001b[0m \u001b[32m13.3/13.3 MB\u001b[0m \u001b[31m68.0 MB/s\u001b[0m eta \u001b[36m0:00:00\u001b[0m\n",
            "\u001b[?25hDownloading datasets-3.1.0-py3-none-any.whl (480 kB)\n",
            "\u001b[2K   \u001b[90m━━━━━━━━━━━━━━━━━━━━━━━━━━━━━━━━━━━━━━━━\u001b[0m \u001b[32m480.6/480.6 kB\u001b[0m \u001b[31m36.9 MB/s\u001b[0m eta \u001b[36m0:00:00\u001b[0m\n",
            "\u001b[?25hDownloading evaluate-0.4.3-py3-none-any.whl (84 kB)\n",
            "\u001b[2K   \u001b[90m━━━━━━━━━━━━━━━━━━━━━━━━━━━━━━━━━━━━━━━━\u001b[0m \u001b[32m84.0/84.0 kB\u001b[0m \u001b[31m8.6 MB/s\u001b[0m eta \u001b[36m0:00:00\u001b[0m\n",
            "\u001b[?25hDownloading pandas-1.5.3-cp310-cp310-manylinux_2_17_x86_64.manylinux2014_x86_64.whl (12.1 MB)\n",
            "\u001b[2K   \u001b[90m━━━━━━━━━━━━━━━━━━━━━━━━━━━━━━━━━━━━━━━━\u001b[0m \u001b[32m12.1/12.1 MB\u001b[0m \u001b[31m111.2 MB/s\u001b[0m eta \u001b[36m0:00:00\u001b[0m\n",
            "\u001b[?25hDownloading cpm_kernels-1.0.11-py3-none-any.whl (416 kB)\n",
            "\u001b[2K   \u001b[90m━━━━━━━━━━━━━━━━━━━━━━━━━━━━━━━━━━━━━━━━\u001b[0m \u001b[32m416.6/416.6 kB\u001b[0m \u001b[31m18.2 MB/s\u001b[0m eta \u001b[36m0:00:00\u001b[0m\n",
            "\u001b[?25hDownloading fuzzywuzzy-0.18.0-py2.py3-none-any.whl (18 kB)\n",
            "Downloading json5-0.9.28-py3-none-any.whl (30 kB)\n",
            "Downloading mmengine_lite-0.10.5-py3-none-any.whl (452 kB)\n",
            "\u001b[2K   \u001b[90m━━━━━━━━━━━━━━━━━━━━━━━━━━━━━━━━━━━━━━━━\u001b[0m \u001b[32m452.4/452.4 kB\u001b[0m \u001b[31m42.4 MB/s\u001b[0m eta \u001b[36m0:00:00\u001b[0m\n",
            "\u001b[?25hDownloading OpenCC-1.1.9-cp310-cp310-manylinux2014_x86_64.whl (1.7 MB)\n",
            "\u001b[2K   \u001b[90m━━━━━━━━━━━━━━━━━━━━━━━━━━━━━━━━━━━━━━━━\u001b[0m \u001b[32m1.7/1.7 MB\u001b[0m \u001b[31m75.1 MB/s\u001b[0m eta \u001b[36m0:00:00\u001b[0m\n",
            "\u001b[?25hDownloading python_Levenshtein-0.26.1-py3-none-any.whl (9.4 kB)\n",
            "Downloading levenshtein-0.26.1-cp310-cp310-manylinux_2_17_x86_64.manylinux2014_x86_64.whl (162 kB)\n",
            "\u001b[2K   \u001b[90m━━━━━━━━━━━━━━━━━━━━━━━━━━━━━━━━━━━━━━━━\u001b[0m \u001b[32m162.6/162.6 kB\u001b[0m \u001b[31m16.8 MB/s\u001b[0m eta \u001b[36m0:00:00\u001b[0m\n",
            "\u001b[?25hDownloading rapidfuzz-3.10.1-cp310-cp310-manylinux_2_17_x86_64.manylinux2014_x86_64.whl (3.1 MB)\n",
            "\u001b[2K   \u001b[90m━━━━━━━━━━━━━━━━━━━━━━━━━━━━━━━━━━━━━━━━\u001b[0m \u001b[32m3.1/3.1 MB\u001b[0m \u001b[31m98.5 MB/s\u001b[0m eta \u001b[36m0:00:00\u001b[0m\n",
            "\u001b[?25hDownloading retrying-1.3.4-py3-none-any.whl (11 kB)\n",
            "Downloading rouge-1.0.1-py3-none-any.whl (13 kB)\n",
            "Downloading rouge_chinese-1.0.3-py3-none-any.whl (21 kB)\n",
            "Downloading sacrebleu-2.4.3-py3-none-any.whl (103 kB)\n",
            "\u001b[2K   \u001b[90m━━━━━━━━━━━━━━━━━━━━━━━━━━━━━━━━━━━━━━━━\u001b[0m \u001b[32m104.0/104.0 kB\u001b[0m \u001b[31m9.7 MB/s\u001b[0m eta \u001b[36m0:00:00\u001b[0m\n",
            "\u001b[?25hDownloading tiktoken-0.8.0-cp310-cp310-manylinux_2_17_x86_64.manylinux2014_x86_64.whl (1.2 MB)\n",
            "\u001b[2K   \u001b[90m━━━━━━━━━━━━━━━━━━━━━━━━━━━━━━━━━━━━━━━━\u001b[0m \u001b[32m1.2/1.2 MB\u001b[0m \u001b[31m65.8 MB/s\u001b[0m eta \u001b[36m0:00:00\u001b[0m\n",
            "\u001b[?25hDownloading dill-0.3.8-py3-none-any.whl (116 kB)\n",
            "\u001b[2K   \u001b[90m━━━━━━━━━━━━━━━━━━━━━━━━━━━━━━━━━━━━━━━━\u001b[0m \u001b[32m116.3/116.3 kB\u001b[0m \u001b[31m12.4 MB/s\u001b[0m eta \u001b[36m0:00:00\u001b[0m\n",
            "\u001b[?25hDownloading fsspec-2024.9.0-py3-none-any.whl (179 kB)\n",
            "\u001b[2K   \u001b[90m━━━━━━━━━━━━━━━━━━━━━━━━━━━━━━━━━━━━━━━━\u001b[0m \u001b[32m179.3/179.3 kB\u001b[0m \u001b[31m17.0 MB/s\u001b[0m eta \u001b[36m0:00:00\u001b[0m\n",
            "\u001b[?25hDownloading multiprocess-0.70.16-py310-none-any.whl (134 kB)\n",
            "\u001b[2K   \u001b[90m━━━━━━━━━━━━━━━━━━━━━━━━━━━━━━━━━━━━━━━━\u001b[0m \u001b[32m134.8/134.8 kB\u001b[0m \u001b[31m13.4 MB/s\u001b[0m eta \u001b[36m0:00:00\u001b[0m\n",
            "\u001b[?25hDownloading addict-2.4.0-py3-none-any.whl (3.8 kB)\n",
            "Downloading colorama-0.4.6-py2.py3-none-any.whl (25 kB)\n",
            "Downloading portalocker-2.10.1-py3-none-any.whl (18 kB)\n",
            "Downloading xxhash-3.5.0-cp310-cp310-manylinux_2_17_x86_64.manylinux2014_x86_64.whl (194 kB)\n",
            "\u001b[2K   \u001b[90m━━━━━━━━━━━━━━━━━━━━━━━━━━━━━━━━━━━━━━━━\u001b[0m \u001b[32m194.1/194.1 kB\u001b[0m \u001b[31m18.3 MB/s\u001b[0m eta \u001b[36m0:00:00\u001b[0m\n",
            "\u001b[?25hDownloading yapf-0.40.2-py3-none-any.whl (254 kB)\n",
            "\u001b[2K   \u001b[90m━━━━━━━━━━━━━━━━━━━━━━━━━━━━━━━━━━━━━━━━\u001b[0m \u001b[32m254.7/254.7 kB\u001b[0m \u001b[31m23.6 MB/s\u001b[0m eta \u001b[36m0:00:00\u001b[0m\n",
            "\u001b[?25hBuilding wheels for collected packages: sentence_transformers, func_timeout, pyext, rouge_score, timeout_decorator\n",
            "  Building wheel for sentence_transformers (setup.py) ... \u001b[?25l\u001b[?25hdone\n",
            "  Created wheel for sentence_transformers: filename=sentence_transformers-2.2.2-py3-none-any.whl size=125924 sha256=2c2d0b2c0e990d8fc6dcf60d917278e4b4e241fb41e12fb08cbfb75fc134f1f9\n",
            "  Stored in directory: /root/.cache/pip/wheels/62/f2/10/1e606fd5f02395388f74e7462910fe851042f97238cbbd902f\n",
            "  Building wheel for func_timeout (setup.py) ... \u001b[?25l\u001b[?25hdone\n",
            "  Created wheel for func_timeout: filename=func_timeout-4.3.5-py3-none-any.whl size=15076 sha256=0b0035f07c3d23a668884042a724e5345971e8c54040f8509db560901d9949e9\n",
            "  Stored in directory: /root/.cache/pip/wheels/3f/83/19/b5552bb9630e353f7c5b15be44bf10900afe1abbbfcf536afd\n",
            "  Building wheel for pyext (setup.py) ... \u001b[?25l\u001b[?25hdone\n",
            "  Created wheel for pyext: filename=pyext-0.7-py3-none-any.whl size=7222 sha256=7f47f90b1ce08c5974ef4a40fb31cb800154b1af5991139c907ad591459ba5dd\n",
            "  Stored in directory: /root/.cache/pip/wheels/09/95/a9/f3f15c5e52dec7912c332ae503e82fd680e576bf336437f002\n",
            "  Building wheel for rouge_score (setup.py) ... \u001b[?25l\u001b[?25hdone\n",
            "  Created wheel for rouge_score: filename=rouge_score-0.1.2-py3-none-any.whl size=24935 sha256=0d825f1015e91fda2fb7d9f7c1c2563a4521d814c1929e79a3c6e8c653a50b71\n",
            "  Stored in directory: /root/.cache/pip/wheels/5f/dd/89/461065a73be61a532ff8599a28e9beef17985c9e9c31e541b4\n",
            "  Building wheel for timeout_decorator (setup.py) ... \u001b[?25l\u001b[?25hdone\n",
            "  Created wheel for timeout_decorator: filename=timeout_decorator-0.5.0-py3-none-any.whl size=5007 sha256=fff1534a327b71054dff749fc2610aa68593663bccf2bfdfbbd4781211cc347c\n",
            "  Stored in directory: /root/.cache/pip/wheels/68/2f/bc/76f1192d474666d41ae6f09813fccbd00fe3f07e8261c4cff5\n",
            "Successfully built sentence_transformers func_timeout pyext rouge_score timeout_decorator\n",
            "Installing collected packages: timeout_decorator, pyext, OpenCC, fuzzywuzzy, func_timeout, cpm_kernels, addict, xxhash, rouge_chinese, rouge, retrying, rapidfuzz, rank_bm25, portalocker, nltk, json5, fsspec, einops, dill, colorama, yapf, tiktoken, scikit_learn, sacrebleu, rouge_score, pandas, multiprocess, Levenshtein, python-Levenshtein, mmengine-lite, sentence_transformers, datasets, evaluate, opencompass\n",
            "  Attempting uninstall: nltk\n",
            "    Found existing installation: nltk 3.8.1\n",
            "    Uninstalling nltk-3.8.1:\n",
            "      Successfully uninstalled nltk-3.8.1\n",
            "  Attempting uninstall: fsspec\n",
            "    Found existing installation: fsspec 2024.10.0\n",
            "    Uninstalling fsspec-2024.10.0:\n",
            "      Successfully uninstalled fsspec-2024.10.0\n",
            "  Attempting uninstall: einops\n",
            "    Found existing installation: einops 0.8.0\n",
            "    Uninstalling einops-0.8.0:\n",
            "      Successfully uninstalled einops-0.8.0\n",
            "  Attempting uninstall: scikit_learn\n",
            "    Found existing installation: scikit-learn 1.5.2\n",
            "    Uninstalling scikit-learn-1.5.2:\n",
            "      Successfully uninstalled scikit-learn-1.5.2\n",
            "  Attempting uninstall: pandas\n",
            "    Found existing installation: pandas 2.2.2\n",
            "    Uninstalling pandas-2.2.2:\n",
            "      Successfully uninstalled pandas-2.2.2\n",
            "  Attempting uninstall: sentence_transformers\n",
            "    Found existing installation: sentence-transformers 3.2.1\n",
            "    Uninstalling sentence-transformers-3.2.1:\n",
            "      Successfully uninstalled sentence-transformers-3.2.1\n",
            "  Running setup.py develop for opencompass\n",
            "\u001b[31mERROR: pip's dependency resolver does not currently take into account all the packages that are installed. This behaviour is the source of the following dependency conflicts.\n",
            "cudf-cu12 24.10.1 requires pandas<2.2.3dev0,>=2.0, but you have pandas 1.5.3 which is incompatible.\n",
            "gcsfs 2024.10.0 requires fsspec==2024.10.0, but you have fsspec 2024.9.0 which is incompatible.\n",
            "google-colab 1.0.0 requires pandas==2.2.2, but you have pandas 1.5.3 which is incompatible.\n",
            "mizani 0.13.0 requires pandas>=2.2.0, but you have pandas 1.5.3 which is incompatible.\n",
            "plotnine 0.14.1 requires pandas>=2.2.0, but you have pandas 1.5.3 which is incompatible.\n",
            "xarray 2024.10.0 requires pandas>=2.1, but you have pandas 1.5.3 which is incompatible.\u001b[0m\u001b[31m\n",
            "\u001b[0mSuccessfully installed Levenshtein-0.26.1 OpenCC-1.1.9 addict-2.4.0 colorama-0.4.6 cpm_kernels-1.0.11 datasets-3.1.0 dill-0.3.8 einops-0.5.0 evaluate-0.4.3 fsspec-2024.9.0 func_timeout-4.3.5 fuzzywuzzy-0.18.0 json5-0.9.28 mmengine-lite-0.10.5 multiprocess-0.70.16 nltk-3.8 opencompass-0.3.5 pandas-1.5.3 portalocker-2.10.1 pyext-0.7 python-Levenshtein-0.26.1 rank_bm25-0.2.2 rapidfuzz-3.10.1 retrying-1.3.4 rouge-1.0.1 rouge_chinese-1.0.3 rouge_score-0.1.2 sacrebleu-2.4.3 scikit_learn-1.5.0 sentence_transformers-2.2.2 tiktoken-0.8.0 timeout_decorator-0.5.0 xxhash-3.5.0 yapf-0.40.2\n"
          ]
        }
      ],
      "source": [
        "!pip install -e ."
      ]
    },
    {
      "cell_type": "markdown",
      "metadata": {
        "id": "v-6-Fg9pyCA7"
      },
      "source": [
        "## WSC PPL Benchmark"
      ]
    },
    {
      "cell_type": "code",
      "execution_count": 6,
      "metadata": {
        "colab": {
          "base_uri": "https://localhost:8080/"
        },
        "id": "M8bQGMrHvpEH",
        "outputId": "1682fa5a-6e38-49a6-b9a2-516ea67a5d2b"
      },
      "outputs": [
        {
          "output_type": "stream",
          "name": "stdout",
          "text": [
            "/content/opencompass/opencompass/__init__.py:17: UserWarning: Starting from v0.4.0, all AMOTIC configuration files currently located in `./configs/datasets`, `./configs/models`, and `./configs/summarizers` will be migrated to the `opencompass/configs/` package. Please update your configuration file paths accordingly.\n",
            "  _warn_about_config_migration()\n",
            "2024-11-11 20:41:57.026048: I tensorflow/core/util/port.cc:153] oneDNN custom operations are on. You may see slightly different numerical results due to floating-point round-off errors from different computation orders. To turn them off, set the environment variable `TF_ENABLE_ONEDNN_OPTS=0`.\n",
            "2024-11-11 20:41:57.043289: E external/local_xla/xla/stream_executor/cuda/cuda_fft.cc:485] Unable to register cuFFT factory: Attempting to register factory for plugin cuFFT when one has already been registered\n",
            "2024-11-11 20:41:57.064861: E external/local_xla/xla/stream_executor/cuda/cuda_dnn.cc:8454] Unable to register cuDNN factory: Attempting to register factory for plugin cuDNN when one has already been registered\n",
            "2024-11-11 20:41:57.071304: E external/local_xla/xla/stream_executor/cuda/cuda_blas.cc:1452] Unable to register cuBLAS factory: Attempting to register factory for plugin cuBLAS when one has already been registered\n",
            "2024-11-11 20:41:57.087412: I tensorflow/core/platform/cpu_feature_guard.cc:210] This TensorFlow binary is optimized to use available CPU instructions in performance-critical operations.\n",
            "To enable the following instructions: AVX2 AVX512F AVX512_VNNI FMA, in other operations, rebuild TensorFlow with the appropriate compiler flags.\n",
            "2024-11-11 20:41:58.227993: W tensorflow/compiler/tf2tensorrt/utils/py_utils.cc:38] TF-TRT Warning: Could not find TensorRT\n",
            "11/11 20:42:01 - OpenCompass - \u001b[5m\u001b[4m\u001b[33mWARNING\u001b[0m - Found ambiguous patterns, using the first matched config.\n",
            "+-----------------------+-----------------------------------------------------------------------------------------+\n",
            "| Ambiguous patterns    | Matched files                                                                           |\n",
            "|-----------------------+-----------------------------------------------------------------------------------------|\n",
            "| winogrande_ppl_55a66e | configs/datasets/winogrande/winogrande_ppl_55a66e.py                                    |\n",
            "|                       | /content/opencompass/opencompass/configs/./datasets/winogrande/winogrande_ppl_55a66e.py |\n",
            "+-----------------------+-----------------------------------------------------------------------------------------+\n",
            "11/11 20:42:01 - OpenCompass - \u001b[4m\u001b[97mINFO\u001b[0m - Loading winogrande_ppl_55a66e: configs/datasets/winogrande/winogrande_ppl_55a66e.py\n",
            "11/11 20:42:01 - OpenCompass - \u001b[5m\u001b[4m\u001b[33mWARNING\u001b[0m - Found ambiguous patterns, using the first matched config.\n",
            "+----------------------+-------------------------------------------------------------------+\n",
            "| Ambiguous patterns   | Matched files                                                     |\n",
            "|----------------------+-------------------------------------------------------------------|\n",
            "| example              | configs/summarizers/example.py                                    |\n",
            "|                      | /content/opencompass/opencompass/configs/./summarizers/example.py |\n",
            "+----------------------+-------------------------------------------------------------------+\n",
            "11/11 20:42:01 - OpenCompass - \u001b[4m\u001b[97mINFO\u001b[0m - Loading example: configs/summarizers/example.py\n",
            "11/11 20:42:01 - OpenCompass - \u001b[4m\u001b[97mINFO\u001b[0m - Current exp folder: outputs/default/20241111_204201\n",
            "11/11 20:42:02 - OpenCompass - \u001b[5m\u001b[4m\u001b[33mWARNING\u001b[0m - SlurmRunner is not used, so the partition argument is ignored.\n",
            "11/11 20:42:02 - OpenCompass - \u001b[4m\u001b[97mINFO\u001b[0m - ./data/winogrande/ does not exist!Start Download data automatically!If you have downloaded the data before,You can specific `COMPASS_DATA_CACHE` to avoid downloading~\n",
            "Downloading http://opencompass.oss-cn-shanghai.aliyuncs.com/datasets/data/winogrande.zip to /root/.cache/opencompass/data/winogrande.zip\n",
            "\u001b[2K\u001b[32m3.4/3.4 MB\u001b[0m \u001b[90m━━━━━━━━━━━━━━━━━━━━━━━━━━━━━━━━━━━━━━━━━━━━━━━━━━━━━━━━━━━━━━━━━━━━━━━━━━━━━━━━━\u001b[0m \u001b[36m0:00:00\u001b[0m\n",
            "\u001b[?25hExtracting /root/.cache/opencompass/data/winogrande.zip to /root/.cache/opencompass/data\n",
            "11/11 20:42:03 - OpenCompass - \u001b[4m\u001b[97mINFO\u001b[0m - Partitioned into 1 tasks.\n",
            "launch OpenICLInfer[llama2-7b-laco_hf/winogrande] on GPU 0\n",
            "100% 1/1 [09:23<00:00, 563.98s/it]\n",
            "11/11 20:51:27 - OpenCompass - \u001b[4m\u001b[97mINFO\u001b[0m - Partitioned into 1 tasks.\n",
            "launch OpenICLEval[llama2-7b-laco_hf/winogrande] on CPU \n",
            "100% 1/1 [00:10<00:00, 10.28s/it]\n",
            "dataset     version    metric    mode      llama2-7b-laco_hf\n",
            "----------  ---------  --------  ------  -------------------\n",
            "winogrande  55a66e     accuracy  ppl                   53.99\n",
            "11/11 20:51:37 - OpenCompass - \u001b[4m\u001b[97mINFO\u001b[0m - write summary to /content/opencompass/outputs/default/20241111_204201/summary/summary_20241111_204201.txt\n",
            "11/11 20:51:37 - OpenCompass - \u001b[4m\u001b[97mINFO\u001b[0m - write csv to /content/opencompass/outputs/default/20241111_204201/summary/summary_20241111_204201.csv\n",
            "\n",
            "\n",
            "The markdown format results is as below:\n",
            "\n",
            "| dataset | version | metric | mode | llama2-7b-laco_hf |\n",
            "|----- | ----- | ----- | ----- | -----|\n",
            "| winogrande | 55a66e | accuracy | ppl | 53.99 |\n",
            "\n",
            "11/11 20:51:37 - OpenCompass - \u001b[4m\u001b[97mINFO\u001b[0m - write markdown summary to /content/opencompass/outputs/default/20241111_204201/summary/summary_20241111_204201.md\n"
          ]
        }
      ],
      "source": [
        "!python run.py \\\n",
        "    --datasets winogrande_ppl_55a66e \\\n",
        "    --hf-type base \\\n",
        "    --hf-path namannn/llama2-7b-laco \\\n",
        "    --tokenizer-path namannn/llama2-7b-laco \\\n",
        "    --model-kwargs device_map='auto' \\\n",
        "    --max-seq-len 1024 \\\n",
        "    --max-out-len 100 \\\n",
        "    --min-out-len 100 \\\n",
        "    --batch-size 8 \\\n",
        "    --hf-num-gpus 1"
      ]
    },
    {
      "cell_type": "markdown",
      "metadata": {
        "id": "js34ieoY02Sn"
      },
      "source": [
        "## WSC Gen BenchMark"
      ]
    },
    {
      "cell_type": "code",
      "execution_count": 12,
      "metadata": {
        "colab": {
          "base_uri": "https://localhost:8080/"
        },
        "id": "CnJWFq2Ux7Xw",
        "outputId": "d41bf44a-0d25-4035-de3b-e35c3553eb47"
      },
      "outputs": [
        {
          "output_type": "stream",
          "name": "stdout",
          "text": [
            "/content/opencompass/opencompass/__init__.py:17: UserWarning: Starting from v0.4.0, all AMOTIC configuration files currently located in `./configs/datasets`, `./configs/models`, and `./configs/summarizers` will be migrated to the `opencompass/configs/` package. Please update your configuration file paths accordingly.\n",
            "  _warn_about_config_migration()\n",
            "2024-11-11 20:56:30.318166: I tensorflow/core/util/port.cc:153] oneDNN custom operations are on. You may see slightly different numerical results due to floating-point round-off errors from different computation orders. To turn them off, set the environment variable `TF_ENABLE_ONEDNN_OPTS=0`.\n",
            "2024-11-11 20:56:30.333897: E external/local_xla/xla/stream_executor/cuda/cuda_fft.cc:485] Unable to register cuFFT factory: Attempting to register factory for plugin cuFFT when one has already been registered\n",
            "2024-11-11 20:56:30.355399: E external/local_xla/xla/stream_executor/cuda/cuda_dnn.cc:8454] Unable to register cuDNN factory: Attempting to register factory for plugin cuDNN when one has already been registered\n",
            "2024-11-11 20:56:30.361840: E external/local_xla/xla/stream_executor/cuda/cuda_blas.cc:1452] Unable to register cuBLAS factory: Attempting to register factory for plugin cuBLAS when one has already been registered\n",
            "2024-11-11 20:56:30.377455: I tensorflow/core/platform/cpu_feature_guard.cc:210] This TensorFlow binary is optimized to use available CPU instructions in performance-critical operations.\n",
            "To enable the following instructions: AVX2 AVX512F AVX512_VNNI FMA, in other operations, rebuild TensorFlow with the appropriate compiler flags.\n",
            "2024-11-11 20:56:31.671468: W tensorflow/compiler/tf2tensorrt/utils/py_utils.cc:38] TF-TRT Warning: Could not find TensorRT\n",
            "11/11 20:56:33 - OpenCompass - \u001b[5m\u001b[4m\u001b[33mWARNING\u001b[0m - Found ambiguous patterns, using the first matched config.\n",
            "+----------------------+----------------------------------------------------------------------------------+\n",
            "| Ambiguous patterns   | Matched files                                                                    |\n",
            "|----------------------+----------------------------------------------------------------------------------|\n",
            "| winogrande_gen       | configs/datasets/winogrande/winogrande_gen.py                                    |\n",
            "|                      | /content/opencompass/opencompass/configs/./datasets/winogrande/winogrande_gen.py |\n",
            "+----------------------+----------------------------------------------------------------------------------+\n",
            "11/11 20:56:33 - OpenCompass - \u001b[4m\u001b[97mINFO\u001b[0m - Loading winogrande_gen: configs/datasets/winogrande/winogrande_gen.py\n",
            "11/11 20:56:33 - OpenCompass - \u001b[5m\u001b[4m\u001b[33mWARNING\u001b[0m - Found ambiguous patterns, using the first matched config.\n",
            "+----------------------+-------------------------------------------------------------------+\n",
            "| Ambiguous patterns   | Matched files                                                     |\n",
            "|----------------------+-------------------------------------------------------------------|\n",
            "| example              | configs/summarizers/example.py                                    |\n",
            "|                      | /content/opencompass/opencompass/configs/./summarizers/example.py |\n",
            "+----------------------+-------------------------------------------------------------------+\n",
            "11/11 20:56:33 - OpenCompass - \u001b[4m\u001b[97mINFO\u001b[0m - Loading example: configs/summarizers/example.py\n",
            "11/11 20:56:33 - OpenCompass - \u001b[4m\u001b[97mINFO\u001b[0m - Current exp folder: outputs/default/20241111_205633\n",
            "11/11 20:56:33 - OpenCompass - \u001b[5m\u001b[4m\u001b[33mWARNING\u001b[0m - SlurmRunner is not used, so the partition argument is ignored.\n",
            "11/11 20:56:33 - OpenCompass - \u001b[4m\u001b[97mINFO\u001b[0m - Partitioned into 1 tasks.\n",
            "launch OpenICLInfer[llama2-7b-laco_hf/winogrande] on GPU 0\n",
            "100% 1/1 [16:30<00:00, 990.34s/it]\n",
            "11/11 21:13:04 - OpenCompass - \u001b[4m\u001b[97mINFO\u001b[0m - Partitioned into 1 tasks.\n",
            "launch OpenICLEval[llama2-7b-laco_hf/winogrande] on CPU \n",
            "100% 1/1 [00:11<00:00, 11.91s/it]\n",
            "dataset       version  metric    mode      llama2-7b-laco_hf\n",
            "----------  ---------  --------  ------  -------------------\n",
            "winogrande     458220  accuracy  gen                   24.94\n",
            "11/11 21:13:15 - OpenCompass - \u001b[4m\u001b[97mINFO\u001b[0m - write summary to /content/opencompass/outputs/default/20241111_205633/summary/summary_20241111_205633.txt\n",
            "11/11 21:13:15 - OpenCompass - \u001b[4m\u001b[97mINFO\u001b[0m - write csv to /content/opencompass/outputs/default/20241111_205633/summary/summary_20241111_205633.csv\n",
            "\n",
            "\n",
            "The markdown format results is as below:\n",
            "\n",
            "| dataset | version | metric | mode | llama2-7b-laco_hf |\n",
            "|----- | ----- | ----- | ----- | -----|\n",
            "| winogrande | 458220 | accuracy | gen | 24.94 |\n",
            "\n",
            "11/11 21:13:15 - OpenCompass - \u001b[4m\u001b[97mINFO\u001b[0m - write markdown summary to /content/opencompass/outputs/default/20241111_205633/summary/summary_20241111_205633.md\n"
          ]
        }
      ],
      "source": [
        "!python run.py \\\n",
        "    --datasets winogrande_gen \\\n",
        "    --hf-type base \\\n",
        "    --hf-path namannn/llama2-7b-laco \\\n",
        "    --tokenizer-path namannn/llama2-7b-laco \\\n",
        "    --model-kwargs device_map='auto' \\\n",
        "    --max-seq-len 1024 \\\n",
        "    --max-out-len 100 \\\n",
        "    --min-out-len 100 \\\n",
        "    --batch-size 8 \\\n",
        "    --hf-num-gpus 1"
      ]
    },
    {
      "cell_type": "markdown",
      "metadata": {
        "id": "56n7f6An7ajL"
      },
      "source": [
        "## Race Benchmark"
      ]
    },
    {
      "cell_type": "code",
      "execution_count": 16,
      "metadata": {
        "id": "FO9X240V09ij",
        "colab": {
          "base_uri": "https://localhost:8080/"
        },
        "outputId": "1f878870-03a1-4579-df09-7d6c2e4160b5"
      },
      "outputs": [
        {
          "output_type": "stream",
          "name": "stdout",
          "text": [
            "/content/opencompass/opencompass/__init__.py:17: UserWarning: Starting from v0.4.0, all AMOTIC configuration files currently located in `./configs/datasets`, `./configs/models`, and `./configs/summarizers` will be migrated to the `opencompass/configs/` package. Please update your configuration file paths accordingly.\n",
            "  _warn_about_config_migration()\n",
            "2024-11-11 21:20:56.810267: I tensorflow/core/util/port.cc:153] oneDNN custom operations are on. You may see slightly different numerical results due to floating-point round-off errors from different computation orders. To turn them off, set the environment variable `TF_ENABLE_ONEDNN_OPTS=0`.\n",
            "2024-11-11 21:20:56.824979: E external/local_xla/xla/stream_executor/cuda/cuda_fft.cc:485] Unable to register cuFFT factory: Attempting to register factory for plugin cuFFT when one has already been registered\n",
            "2024-11-11 21:20:56.846183: E external/local_xla/xla/stream_executor/cuda/cuda_dnn.cc:8454] Unable to register cuDNN factory: Attempting to register factory for plugin cuDNN when one has already been registered\n",
            "2024-11-11 21:20:56.852434: E external/local_xla/xla/stream_executor/cuda/cuda_blas.cc:1452] Unable to register cuBLAS factory: Attempting to register factory for plugin cuBLAS when one has already been registered\n",
            "2024-11-11 21:20:56.867167: I tensorflow/core/platform/cpu_feature_guard.cc:210] This TensorFlow binary is optimized to use available CPU instructions in performance-critical operations.\n",
            "To enable the following instructions: AVX2 AVX512F AVX512_VNNI FMA, in other operations, rebuild TensorFlow with the appropriate compiler flags.\n",
            "2024-11-11 21:20:58.293355: W tensorflow/compiler/tf2tensorrt/utils/py_utils.cc:38] TF-TRT Warning: Could not find TensorRT\n",
            "11/11 21:21:00 - OpenCompass - \u001b[5m\u001b[4m\u001b[33mWARNING\u001b[0m - Found ambiguous patterns, using the first matched config.\n",
            "+----------------------+----------------------------------------------------------------------+\n",
            "| Ambiguous patterns   | Matched files                                                        |\n",
            "|----------------------+----------------------------------------------------------------------|\n",
            "| race_ppl             | configs/datasets/race/race_ppl.py                                    |\n",
            "|                      | /content/opencompass/opencompass/configs/./datasets/race/race_ppl.py |\n",
            "+----------------------+----------------------------------------------------------------------+\n",
            "11/11 21:21:00 - OpenCompass - \u001b[4m\u001b[97mINFO\u001b[0m - Loading race_ppl: configs/datasets/race/race_ppl.py\n",
            "11/11 21:21:00 - OpenCompass - \u001b[5m\u001b[4m\u001b[33mWARNING\u001b[0m - Found ambiguous patterns, using the first matched config.\n",
            "+----------------------+-------------------------------------------------------------------+\n",
            "| Ambiguous patterns   | Matched files                                                     |\n",
            "|----------------------+-------------------------------------------------------------------|\n",
            "| example              | configs/summarizers/example.py                                    |\n",
            "|                      | /content/opencompass/opencompass/configs/./summarizers/example.py |\n",
            "+----------------------+-------------------------------------------------------------------+\n",
            "11/11 21:21:00 - OpenCompass - \u001b[4m\u001b[97mINFO\u001b[0m - Loading example: configs/summarizers/example.py\n",
            "11/11 21:21:00 - OpenCompass - \u001b[4m\u001b[97mINFO\u001b[0m - Current exp folder: outputs/default/20241111_212100\n",
            "11/11 21:21:00 - OpenCompass - \u001b[5m\u001b[4m\u001b[33mWARNING\u001b[0m - SlurmRunner is not used, so the partition argument is ignored.\n",
            "11/11 21:21:00 - OpenCompass - \u001b[4m\u001b[97mINFO\u001b[0m - Partitioned into 1 tasks.\n",
            "launch OpenICLInfer[llama2-7b-laco_hf/race-middle,llama2-7b-laco_hf/race-high] on GPU 0\n",
            "100% 1/1 [54:20<00:00, 3260.91s/it]\n",
            "11/11 22:15:21 - OpenCompass - \u001b[4m\u001b[97mINFO\u001b[0m - Partitioned into 2 tasks.\n",
            "launch OpenICLEval[llama2-7b-laco_hf/race-middle] on CPU \n",
            "launch OpenICLEval[llama2-7b-laco_hf/race-high] on CPU \n",
            "100% 2/2 [00:25<00:00, 12.85s/it]\n",
            "dataset      version    metric    mode      llama2-7b-laco_hf\n",
            "-----------  ---------  --------  ------  -------------------\n",
            "race-middle  0c332f     accuracy  ppl                   21.73\n",
            "race-high    0c332f     accuracy  ppl                   21.44\n",
            "11/11 22:15:46 - OpenCompass - \u001b[4m\u001b[97mINFO\u001b[0m - write summary to /content/opencompass/outputs/default/20241111_212100/summary/summary_20241111_212100.txt\n",
            "11/11 22:15:46 - OpenCompass - \u001b[4m\u001b[97mINFO\u001b[0m - write csv to /content/opencompass/outputs/default/20241111_212100/summary/summary_20241111_212100.csv\n",
            "\n",
            "\n",
            "The markdown format results is as below:\n",
            "\n",
            "| dataset | version | metric | mode | llama2-7b-laco_hf |\n",
            "|----- | ----- | ----- | ----- | -----|\n",
            "| race-middle | 0c332f | accuracy | ppl | 21.73 |\n",
            "| race-high | 0c332f | accuracy | ppl | 21.44 |\n",
            "\n",
            "11/11 22:15:46 - OpenCompass - \u001b[4m\u001b[97mINFO\u001b[0m - write markdown summary to /content/opencompass/outputs/default/20241111_212100/summary/summary_20241111_212100.md\n"
          ]
        }
      ],
      "source": [
        "!python run.py \\\n",
        "    --datasets race_ppl \\\n",
        "    --hf-type base \\\n",
        "    --hf-path namannn/llama2-7b-laco \\\n",
        "    --tokenizer-path namannn/llama2-7b-laco \\\n",
        "    --model-kwargs device_map='auto' \\\n",
        "    --max-seq-len 1024 \\\n",
        "    --max-out-len 100 \\\n",
        "    --min-out-len 100 \\\n",
        "    --batch-size 8 \\\n",
        "    --hf-num-gpus 1"
      ]
    },
    {
      "cell_type": "markdown",
      "metadata": {
        "id": "QKCxHnWcP-Nr"
      },
      "source": [
        "## CSQA Benchmark"
      ]
    },
    {
      "cell_type": "code",
      "execution_count": 17,
      "metadata": {
        "id": "buFhKaExPyu_",
        "colab": {
          "base_uri": "https://localhost:8080/"
        },
        "outputId": "7d2b24eb-8a23-4084-ba14-6f9f720f5318"
      },
      "outputs": [
        {
          "output_type": "stream",
          "name": "stdout",
          "text": [
            "/content/opencompass/opencompass/__init__.py:17: UserWarning: Starting from v0.4.0, all AMOTIC configuration files currently located in `./configs/datasets`, `./configs/models`, and `./configs/summarizers` will be migrated to the `opencompass/configs/` package. Please update your configuration file paths accordingly.\n",
            "  _warn_about_config_migration()\n",
            "2024-11-11 22:16:17.865663: I tensorflow/core/util/port.cc:153] oneDNN custom operations are on. You may see slightly different numerical results due to floating-point round-off errors from different computation orders. To turn them off, set the environment variable `TF_ENABLE_ONEDNN_OPTS=0`.\n",
            "2024-11-11 22:16:17.882028: E external/local_xla/xla/stream_executor/cuda/cuda_fft.cc:485] Unable to register cuFFT factory: Attempting to register factory for plugin cuFFT when one has already been registered\n",
            "2024-11-11 22:16:17.904212: E external/local_xla/xla/stream_executor/cuda/cuda_dnn.cc:8454] Unable to register cuDNN factory: Attempting to register factory for plugin cuDNN when one has already been registered\n",
            "2024-11-11 22:16:17.910903: E external/local_xla/xla/stream_executor/cuda/cuda_blas.cc:1452] Unable to register cuBLAS factory: Attempting to register factory for plugin cuBLAS when one has already been registered\n",
            "2024-11-11 22:16:17.927401: I tensorflow/core/platform/cpu_feature_guard.cc:210] This TensorFlow binary is optimized to use available CPU instructions in performance-critical operations.\n",
            "To enable the following instructions: AVX2 AVX512F AVX512_VNNI FMA, in other operations, rebuild TensorFlow with the appropriate compiler flags.\n",
            "2024-11-11 22:16:19.260412: W tensorflow/compiler/tf2tensorrt/utils/py_utils.cc:38] TF-TRT Warning: Could not find TensorRT\n",
            "11/11 22:16:21 - OpenCompass - \u001b[5m\u001b[4m\u001b[33mWARNING\u001b[0m - Found ambiguous patterns, using the first matched config.\n",
            "+----------------------+----------------------------------------------------------------------------------------+\n",
            "| Ambiguous patterns   | Matched files                                                                          |\n",
            "|----------------------+----------------------------------------------------------------------------------------|\n",
            "| commonsenseqa_ppl    | configs/datasets/commonsenseqa/commonsenseqa_ppl.py                                    |\n",
            "|                      | /content/opencompass/opencompass/configs/./datasets/commonsenseqa/commonsenseqa_ppl.py |\n",
            "+----------------------+----------------------------------------------------------------------------------------+\n",
            "11/11 22:16:21 - OpenCompass - \u001b[4m\u001b[97mINFO\u001b[0m - Loading commonsenseqa_ppl: configs/datasets/commonsenseqa/commonsenseqa_ppl.py\n",
            "11/11 22:16:21 - OpenCompass - \u001b[5m\u001b[4m\u001b[33mWARNING\u001b[0m - Found ambiguous patterns, using the first matched config.\n",
            "+----------------------+-------------------------------------------------------------------+\n",
            "| Ambiguous patterns   | Matched files                                                     |\n",
            "|----------------------+-------------------------------------------------------------------|\n",
            "| example              | configs/summarizers/example.py                                    |\n",
            "|                      | /content/opencompass/opencompass/configs/./summarizers/example.py |\n",
            "+----------------------+-------------------------------------------------------------------+\n",
            "11/11 22:16:21 - OpenCompass - \u001b[4m\u001b[97mINFO\u001b[0m - Loading example: configs/summarizers/example.py\n",
            "11/11 22:16:21 - OpenCompass - \u001b[4m\u001b[97mINFO\u001b[0m - Current exp folder: outputs/default/20241111_221621\n",
            "11/11 22:16:21 - OpenCompass - \u001b[5m\u001b[4m\u001b[33mWARNING\u001b[0m - SlurmRunner is not used, so the partition argument is ignored.\n",
            "11/11 22:16:21 - OpenCompass - \u001b[4m\u001b[97mINFO\u001b[0m - Partitioned into 1 tasks.\n",
            "launch OpenICLInfer[llama2-7b-laco_hf/commonsense_qa] on GPU 0\n",
            "100% 1/1 [1:40:03<00:00, 6003.22s/it]\n",
            "11/11 23:56:24 - OpenCompass - \u001b[4m\u001b[97mINFO\u001b[0m - Partitioned into 1 tasks.\n",
            "launch OpenICLEval[llama2-7b-laco_hf/commonsense_qa] on CPU \n",
            "100% 1/1 [00:12<00:00, 12.49s/it]\n",
            "dataset           version  metric    mode      llama2-7b-laco_hf\n",
            "--------------  ---------  --------  ------  -------------------\n",
            "commonsense_qa  554500.00  accuracy  ppl                   49.39\n",
            "11/11 23:56:37 - OpenCompass - \u001b[4m\u001b[97mINFO\u001b[0m - write summary to /content/opencompass/outputs/default/20241111_221621/summary/summary_20241111_221621.txt\n",
            "11/11 23:56:37 - OpenCompass - \u001b[4m\u001b[97mINFO\u001b[0m - write csv to /content/opencompass/outputs/default/20241111_221621/summary/summary_20241111_221621.csv\n",
            "\n",
            "\n",
            "The markdown format results is as below:\n",
            "\n",
            "| dataset | version | metric | mode | llama2-7b-laco_hf |\n",
            "|----- | ----- | ----- | ----- | -----|\n",
            "| commonsense_qa | 5545e2 | accuracy | ppl | 49.39 |\n",
            "\n",
            "11/11 23:56:37 - OpenCompass - \u001b[4m\u001b[97mINFO\u001b[0m - write markdown summary to /content/opencompass/outputs/default/20241111_221621/summary/summary_20241111_221621.md\n"
          ]
        }
      ],
      "source": [
        "!python run.py \\\n",
        "    --datasets commonsenseqa_ppl \\\n",
        "    --hf-type base \\\n",
        "    --hf-path namannn/llama2-7b-laco \\\n",
        "    --tokenizer-path namannn/llama2-7b-laco \\\n",
        "    --model-kwargs device_map='auto' \\\n",
        "    --max-seq-len 1024 \\\n",
        "    --max-out-len 100 \\\n",
        "    --min-out-len 100 \\\n",
        "    --batch-size 8 \\\n",
        "    --hf-num-gpus 1"
      ]
    },
    {
      "cell_type": "markdown",
      "source": [
        "## Saving output folder"
      ],
      "metadata": {
        "id": "whZWKn2UANKI"
      }
    },
    {
      "cell_type": "code",
      "execution_count": 18,
      "metadata": {
        "id": "LFGFZ0pmQ_cA",
        "colab": {
          "base_uri": "https://localhost:8080/",
          "height": 1000
        },
        "outputId": "1a86efad-2825-4191-f4cb-2947427c3380"
      },
      "outputs": [
        {
          "output_type": "stream",
          "name": "stdout",
          "text": [
            "  adding: content/opencompass/outputs/ (stored 0%)\n",
            "  adding: content/opencompass/outputs/default/ (stored 0%)\n",
            "  adding: content/opencompass/outputs/default/20241111_205633/ (stored 0%)\n",
            "  adding: content/opencompass/outputs/default/20241111_205633/configs/ (stored 0%)\n",
            "  adding: content/opencompass/outputs/default/20241111_205633/configs/20241111_205633_6203.py (deflated 91%)\n",
            "  adding: content/opencompass/outputs/default/20241111_205633/predictions/ (stored 0%)\n",
            "  adding: content/opencompass/outputs/default/20241111_205633/predictions/llama2-7b-laco_hf/ (stored 0%)\n",
            "  adding: content/opencompass/outputs/default/20241111_205633/predictions/llama2-7b-laco_hf/winogrande.json (deflated 87%)\n",
            "  adding: content/opencompass/outputs/default/20241111_205633/results/ (stored 0%)\n",
            "  adding: content/opencompass/outputs/default/20241111_205633/results/llama2-7b-laco_hf/ (stored 0%)\n",
            "  adding: content/opencompass/outputs/default/20241111_205633/results/llama2-7b-laco_hf/winogrande.json (stored 0%)\n",
            "  adding: content/opencompass/outputs/default/20241111_205633/logs/ (stored 0%)\n",
            "  adding: content/opencompass/outputs/default/20241111_205633/logs/infer/ (stored 0%)\n",
            "  adding: content/opencompass/outputs/default/20241111_205633/logs/infer/llama2-7b-laco_hf/ (stored 0%)\n",
            "  adding: content/opencompass/outputs/default/20241111_205633/logs/infer/llama2-7b-laco_hf/winogrande.out (deflated 75%)\n",
            "  adding: content/opencompass/outputs/default/20241111_205633/logs/eval/ (stored 0%)\n",
            "  adding: content/opencompass/outputs/default/20241111_205633/logs/eval/llama2-7b-laco_hf/ (stored 0%)\n",
            "  adding: content/opencompass/outputs/default/20241111_205633/logs/eval/llama2-7b-laco_hf/winogrande.out (deflated 56%)\n",
            "  adding: content/opencompass/outputs/default/20241111_205633/summary/ (stored 0%)\n",
            "  adding: content/opencompass/outputs/default/20241111_205633/summary/summary_20241111_205633.md (deflated 31%)\n",
            "  adding: content/opencompass/outputs/default/20241111_205633/summary/summary_20241111_205633.txt (deflated 86%)\n",
            "  adding: content/opencompass/outputs/default/20241111_205633/summary/summary_20241111_205633.csv (deflated 6%)\n",
            "  adding: content/opencompass/outputs/default/20241111_212015/ (stored 0%)\n",
            "  adding: content/opencompass/outputs/default/20241111_212015/configs/ (stored 0%)\n",
            "  adding: content/opencompass/outputs/default/20241111_212015/configs/20241111_212015_12230.py (deflated 91%)\n",
            "  adding: content/opencompass/outputs/default/20241111_212015/logs/ (stored 0%)\n",
            "  adding: content/opencompass/outputs/default/20241111_212015/logs/infer/ (stored 0%)\n",
            "  adding: content/opencompass/outputs/default/20241111_212015/logs/infer/llama2-7b-laco_hf/ (stored 0%)\n",
            "  adding: content/opencompass/outputs/default/20241111_212015/logs/infer/llama2-7b-laco_hf/commonsense_qa.out (deflated 82%)\n",
            "  adding: content/opencompass/outputs/default/20241111_205148/ (stored 0%)\n",
            "  adding: content/opencompass/outputs/default/20241111_205148/configs/ (stored 0%)\n",
            "  adding: content/opencompass/outputs/default/20241111_205148/configs/20241111_205148_4820.py (deflated 91%)\n",
            "  adding: content/opencompass/outputs/default/20241111_205148/predictions/ (stored 0%)\n",
            "  adding: content/opencompass/outputs/default/20241111_205148/predictions/llama2-7b-laco_hf/ (stored 0%)\n",
            "  adding: content/opencompass/outputs/default/20241111_205148/predictions/llama2-7b-laco_hf/tmp_winogrande.json (deflated 87%)\n",
            "  adding: content/opencompass/outputs/default/20241111_205148/logs/ (stored 0%)\n",
            "  adding: content/opencompass/outputs/default/20241111_205148/logs/infer/ (stored 0%)\n",
            "  adding: content/opencompass/outputs/default/20241111_205148/logs/infer/llama2-7b-laco_hf/ (stored 0%)\n",
            "  adding: content/opencompass/outputs/default/20241111_205148/logs/infer/llama2-7b-laco_hf/winogrande.out (deflated 68%)\n",
            "  adding: content/opencompass/outputs/default/20241111_212044/ (stored 0%)\n",
            "  adding: content/opencompass/outputs/default/20241111_212044/configs/ (stored 0%)\n",
            "  adding: content/opencompass/outputs/default/20241111_212044/configs/20241111_212044_12444.py (deflated 91%)\n",
            "  adding: content/opencompass/outputs/default/20241111_212100/ (stored 0%)\n",
            "  adding: content/opencompass/outputs/default/20241111_212100/configs/ (stored 0%)\n",
            "  adding: content/opencompass/outputs/default/20241111_212100/configs/20241111_212100_12554.py (deflated 91%)\n",
            "  adding: content/opencompass/outputs/default/20241111_212100/predictions/ (stored 0%)\n",
            "  adding: content/opencompass/outputs/default/20241111_212100/predictions/llama2-7b-laco_hf/ (stored 0%)\n",
            "  adding: content/opencompass/outputs/default/20241111_212100/predictions/llama2-7b-laco_hf/race-middle.json (deflated 97%)\n",
            "  adding: content/opencompass/outputs/default/20241111_212100/predictions/llama2-7b-laco_hf/race-high.json (deflated 97%)\n",
            "  adding: content/opencompass/outputs/default/20241111_212100/results/ (stored 0%)\n",
            "  adding: content/opencompass/outputs/default/20241111_212100/results/llama2-7b-laco_hf/ (stored 0%)\n",
            "  adding: content/opencompass/outputs/default/20241111_212100/results/llama2-7b-laco_hf/race-middle.json (stored 0%)\n",
            "  adding: content/opencompass/outputs/default/20241111_212100/results/llama2-7b-laco_hf/race-high.json (stored 0%)\n",
            "  adding: content/opencompass/outputs/default/20241111_212100/logs/ (stored 0%)\n",
            "  adding: content/opencompass/outputs/default/20241111_212100/logs/infer/ (stored 0%)\n",
            "  adding: content/opencompass/outputs/default/20241111_212100/logs/infer/llama2-7b-laco_hf/ (stored 0%)\n",
            "  adding: content/opencompass/outputs/default/20241111_212100/logs/infer/llama2-7b-laco_hf/race-middle.out (deflated 86%)\n",
            "  adding: content/opencompass/outputs/default/20241111_212100/logs/eval/ (stored 0%)\n",
            "  adding: content/opencompass/outputs/default/20241111_212100/logs/eval/llama2-7b-laco_hf/ (stored 0%)\n",
            "  adding: content/opencompass/outputs/default/20241111_212100/logs/eval/llama2-7b-laco_hf/race-high.out (deflated 56%)\n",
            "  adding: content/opencompass/outputs/default/20241111_212100/logs/eval/llama2-7b-laco_hf/race-middle.out (deflated 56%)\n",
            "  adding: content/opencompass/outputs/default/20241111_212100/summary/ (stored 0%)\n",
            "  adding: content/opencompass/outputs/default/20241111_212100/summary/summary_20241111_212100.txt (deflated 85%)\n",
            "  adding: content/opencompass/outputs/default/20241111_212100/summary/summary_20241111_212100.csv (deflated 28%)\n",
            "  adding: content/opencompass/outputs/default/20241111_212100/summary/summary_20241111_212100.md (deflated 42%)\n",
            "  adding: content/opencompass/outputs/default/20241111_211326/ (stored 0%)\n",
            "  adding: content/opencompass/outputs/default/20241111_211326/configs/ (stored 0%)\n",
            "  adding: content/opencompass/outputs/default/20241111_211326/configs/20241111_211326_10465.py (deflated 91%)\n",
            "  adding: content/opencompass/outputs/default/20241111_211326/predictions/ (stored 0%)\n",
            "  adding: content/opencompass/outputs/default/20241111_211326/predictions/llama2-7b-laco_hf/ (stored 0%)\n",
            "  adding: content/opencompass/outputs/default/20241111_211326/logs/ (stored 0%)\n",
            "  adding: content/opencompass/outputs/default/20241111_211326/logs/infer/ (stored 0%)\n",
            "  adding: content/opencompass/outputs/default/20241111_211326/logs/infer/llama2-7b-laco_hf/ (stored 0%)\n",
            "  adding: content/opencompass/outputs/default/20241111_211326/logs/infer/llama2-7b-laco_hf/race-middle.out (deflated 77%)\n",
            "  adding: content/opencompass/outputs/default/20241111_204201/ (stored 0%)\n",
            "  adding: content/opencompass/outputs/default/20241111_204201/configs/ (stored 0%)\n",
            "  adding: content/opencompass/outputs/default/20241111_204201/configs/20241111_204201_2205.py (deflated 91%)\n",
            "  adding: content/opencompass/outputs/default/20241111_204201/predictions/ (stored 0%)\n",
            "  adding: content/opencompass/outputs/default/20241111_204201/predictions/llama2-7b-laco_hf/ (stored 0%)\n",
            "  adding: content/opencompass/outputs/default/20241111_204201/predictions/llama2-7b-laco_hf/winogrande.json (deflated 89%)\n",
            "  adding: content/opencompass/outputs/default/20241111_204201/results/ (stored 0%)\n",
            "  adding: content/opencompass/outputs/default/20241111_204201/results/llama2-7b-laco_hf/ (stored 0%)\n",
            "  adding: content/opencompass/outputs/default/20241111_204201/results/llama2-7b-laco_hf/winogrande.json (stored 0%)\n",
            "  adding: content/opencompass/outputs/default/20241111_204201/logs/ (stored 0%)\n",
            "  adding: content/opencompass/outputs/default/20241111_204201/logs/infer/ (stored 0%)\n",
            "  adding: content/opencompass/outputs/default/20241111_204201/logs/infer/llama2-7b-laco_hf/ (stored 0%)\n",
            "  adding: content/opencompass/outputs/default/20241111_204201/logs/infer/llama2-7b-laco_hf/winogrande.out (deflated 78%)\n",
            "  adding: content/opencompass/outputs/default/20241111_204201/logs/eval/ (stored 0%)\n",
            "  adding: content/opencompass/outputs/default/20241111_204201/logs/eval/llama2-7b-laco_hf/ (stored 0%)\n",
            "  adding: content/opencompass/outputs/default/20241111_204201/logs/eval/llama2-7b-laco_hf/winogrande.out (deflated 56%)\n",
            "  adding: content/opencompass/outputs/default/20241111_204201/summary/ (stored 0%)\n",
            "  adding: content/opencompass/outputs/default/20241111_204201/summary/summary_20241111_204201.csv (deflated 6%)\n",
            "  adding: content/opencompass/outputs/default/20241111_204201/summary/summary_20241111_204201.md (deflated 32%)\n",
            "  adding: content/opencompass/outputs/default/20241111_204201/summary/summary_20241111_204201.txt (deflated 86%)\n",
            "  adding: content/opencompass/outputs/default/20241111_221621/ (stored 0%)\n",
            "  adding: content/opencompass/outputs/default/20241111_221621/configs/ (stored 0%)\n",
            "  adding: content/opencompass/outputs/default/20241111_221621/configs/20241111_221621_26288.py (deflated 91%)\n",
            "  adding: content/opencompass/outputs/default/20241111_221621/predictions/ (stored 0%)\n",
            "  adding: content/opencompass/outputs/default/20241111_221621/predictions/llama2-7b-laco_hf/ (stored 0%)\n",
            "  adding: content/opencompass/outputs/default/20241111_221621/predictions/llama2-7b-laco_hf/commonsense_qa.json (deflated 94%)\n",
            "  adding: content/opencompass/outputs/default/20241111_221621/results/ (stored 0%)\n",
            "  adding: content/opencompass/outputs/default/20241111_221621/results/llama2-7b-laco_hf/ (stored 0%)\n",
            "  adding: content/opencompass/outputs/default/20241111_221621/results/llama2-7b-laco_hf/commonsense_qa.json (deflated 18%)\n",
            "  adding: content/opencompass/outputs/default/20241111_221621/logs/ (stored 0%)\n",
            "  adding: content/opencompass/outputs/default/20241111_221621/logs/infer/ (stored 0%)\n",
            "  adding: content/opencompass/outputs/default/20241111_221621/logs/infer/llama2-7b-laco_hf/ (stored 0%)\n",
            "  adding: content/opencompass/outputs/default/20241111_221621/logs/infer/llama2-7b-laco_hf/commonsense_qa.out (deflated 83%)\n",
            "  adding: content/opencompass/outputs/default/20241111_221621/logs/eval/ (stored 0%)\n",
            "  adding: content/opencompass/outputs/default/20241111_221621/logs/eval/llama2-7b-laco_hf/ (stored 0%)\n",
            "  adding: content/opencompass/outputs/default/20241111_221621/logs/eval/llama2-7b-laco_hf/commonsense_qa.out (deflated 56%)\n",
            "  adding: content/opencompass/outputs/default/20241111_221621/summary/ (stored 0%)\n",
            "  adding: content/opencompass/outputs/default/20241111_221621/summary/summary_20241111_221621.md (deflated 31%)\n",
            "  adding: content/opencompass/outputs/default/20241111_221621/summary/summary_20241111_221621.txt (deflated 86%)\n",
            "  adding: content/opencompass/outputs/default/20241111_221621/summary/summary_20241111_221621.csv (deflated 9%)\n"
          ]
        },
        {
          "output_type": "display_data",
          "data": {
            "text/plain": [
              "<IPython.core.display.Javascript object>"
            ],
            "application/javascript": [
              "\n",
              "    async function download(id, filename, size) {\n",
              "      if (!google.colab.kernel.accessAllowed) {\n",
              "        return;\n",
              "      }\n",
              "      const div = document.createElement('div');\n",
              "      const label = document.createElement('label');\n",
              "      label.textContent = `Downloading \"${filename}\": `;\n",
              "      div.appendChild(label);\n",
              "      const progress = document.createElement('progress');\n",
              "      progress.max = size;\n",
              "      div.appendChild(progress);\n",
              "      document.body.appendChild(div);\n",
              "\n",
              "      const buffers = [];\n",
              "      let downloaded = 0;\n",
              "\n",
              "      const channel = await google.colab.kernel.comms.open(id);\n",
              "      // Send a message to notify the kernel that we're ready.\n",
              "      channel.send({})\n",
              "\n",
              "      for await (const message of channel.messages) {\n",
              "        // Send a message to notify the kernel that we're ready.\n",
              "        channel.send({})\n",
              "        if (message.buffers) {\n",
              "          for (const buffer of message.buffers) {\n",
              "            buffers.push(buffer);\n",
              "            downloaded += buffer.byteLength;\n",
              "            progress.value = downloaded;\n",
              "          }\n",
              "        }\n",
              "      }\n",
              "      const blob = new Blob(buffers, {type: 'application/binary'});\n",
              "      const a = document.createElement('a');\n",
              "      a.href = window.URL.createObjectURL(blob);\n",
              "      a.download = filename;\n",
              "      div.appendChild(a);\n",
              "      a.click();\n",
              "      div.remove();\n",
              "    }\n",
              "  "
            ]
          },
          "metadata": {}
        },
        {
          "output_type": "display_data",
          "data": {
            "text/plain": [
              "<IPython.core.display.Javascript object>"
            ],
            "application/javascript": [
              "download(\"download_58c88a96-b939-4333-8043-6fdb9124b61d\", \"output-7b-2.zip\", 3948204)"
            ]
          },
          "metadata": {}
        }
      ],
      "source": [
        "from google.colab import files\n",
        "\n",
        "!zip -r output-7b-2.zip /content/opencompass/outputs\n",
        "files.download('output-7b-2.zip')"
      ]
    },
    {
      "cell_type": "code",
      "source": [],
      "metadata": {
        "id": "cjSFmg8mAhVz"
      },
      "execution_count": null,
      "outputs": []
    }
  ],
  "metadata": {
    "accelerator": "GPU",
    "colab": {
      "gpuType": "L4",
      "provenance": []
    },
    "kernelspec": {
      "display_name": "Python 3",
      "name": "python3"
    },
    "language_info": {
      "name": "python"
    }
  },
  "nbformat": 4,
  "nbformat_minor": 0
}